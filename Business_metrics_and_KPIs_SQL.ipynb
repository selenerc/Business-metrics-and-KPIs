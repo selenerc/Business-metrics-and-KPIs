{
  "nbformat": 4,
  "nbformat_minor": 0,
  "metadata": {
    "colab": {
      "name": "Business metrics and KPIs - SQL",
      "provenance": [],
      "authorship_tag": "ABX9TyOUq9QP5aWdVgm9kH1OB1ne",
      "include_colab_link": true
    },
    "kernelspec": {
      "name": "python3",
      "display_name": "Python 3"
    }
  },
  "cells": [
    {
      "cell_type": "markdown",
      "metadata": {
        "id": "view-in-github",
        "colab_type": "text"
      },
      "source": [
        "<a href=\"https://colab.research.google.com/github/selenerc/Business-metrics-and-KPIs/blob/master/Business_metrics_and_KPIs_SQL.ipynb\" target=\"_parent\"><img src=\"https://colab.research.google.com/assets/colab-badge.svg\" alt=\"Open In Colab\"/></a>"
      ]
    },
    {
      "cell_type": "code",
      "metadata": {
        "id": "yLrM5kodwfru",
        "colab_type": "code",
        "colab": {}
      },
      "source": [
        "# Install PosgreSQL\n",
        "%%capture\n",
        "!wget -qO- https://www.postgresql.org/media/keys/ACCC4CF8.asc | apt-key add -\n",
        "!echo \"deb http://apt.postgresql.org/pub/repos/apt/ bionic-pgdg main\" >/etc/apt/sources.list.d/pgdg.list\n",
        "!apt -qq update\n",
        "!apt -yq install postgresql-12 postgresql-client-12\n",
        "!service postgresql start\n",
        "# make calling psql shorter\n",
        "!sudo -u postgres psql -c \"CREATE USER root WITH SUPERUSER\"  \n",
        "!psql postgres -c \"CREATE DATABASE root\"  # now just !psql -c \"...\"\n",
        "# load SQL extensions\n",
        "%load_ext sql\n",
        "%config SqlMagic.feedback=False \n",
        "%config SqlMagic.autopandas=True\n",
        "%sql postgresql+psycopg2://@/postgres"
      ],
      "execution_count": 2,
      "outputs": []
    },
    {
      "cell_type": "code",
      "metadata": {
        "id": "Twcz1xg3AM6r",
        "colab_type": "code",
        "colab": {}
      },
      "source": [
        "# Download your data to local environment\n",
        "!wget -q https://github.com/datacamp/data-analysis-in-sql-live-training/raw/master/data/user_data.csv\n",
        "!wget -q https://github.com/datacamp/data-analysis-in-sql-live-training/raw/master/data/user_metadata.csv"
      ],
      "execution_count": 4,
      "outputs": []
    },
    {
      "cell_type": "code",
      "metadata": {
        "id": "21X6yArhwzrP",
        "colab_type": "code",
        "colab": {
          "base_uri": "https://localhost:8080/",
          "height": 49
        },
        "outputId": "0b19e2c0-b8e4-4a3a-adf1-188008dac810"
      },
      "source": [
        "# Create table\n",
        "%%sql\n",
        "\n",
        "DROP TABLE IF EXISTS user_sessions;\n",
        "CREATE TABLE user_sessions(\n",
        " session_date date,\n",
        " user_id int,\n",
        " time_spent_in_mins int\n",
        ");\n",
        "\n",
        "COPY user_sessions\n",
        "FROM '/content/user_data.csv' DELIMITER ',' CSV HEADER;\n",
        "\n",
        "DROP TABLE IF EXISTS user_data;\n",
        "CREATE TABLE user_data(\n",
        " user_id int,\n",
        " country char(3),\n",
        " age int\n",
        ");\n",
        "\n",
        "COPY user_data\n",
        "FROM '/content/user_metadata.csv' DELIMITER ',' CSV HEADER;"
      ],
      "execution_count": 5,
      "outputs": [
        {
          "output_type": "stream",
          "text": [
            " * postgresql+psycopg2://@/postgres\n"
          ],
          "name": "stdout"
        },
        {
          "output_type": "execute_result",
          "data": {
            "text/html": [
              "<div>\n",
              "<style scoped>\n",
              "    .dataframe tbody tr th:only-of-type {\n",
              "        vertical-align: middle;\n",
              "    }\n",
              "\n",
              "    .dataframe tbody tr th {\n",
              "        vertical-align: top;\n",
              "    }\n",
              "\n",
              "    .dataframe thead th {\n",
              "        text-align: right;\n",
              "    }\n",
              "</style>\n",
              "<table border=\"1\" class=\"dataframe\">\n",
              "  <thead>\n",
              "    <tr style=\"text-align: right;\">\n",
              "      <th></th>\n",
              "    </tr>\n",
              "  </thead>\n",
              "  <tbody>\n",
              "  </tbody>\n",
              "</table>\n",
              "</div>"
            ],
            "text/plain": [
              "Empty DataFrame\n",
              "Columns: []\n",
              "Index: []"
            ]
          },
          "metadata": {
            "tags": []
          },
          "execution_count": 5
        }
      ]
    },
    {
      "cell_type": "markdown",
      "metadata": {
        "id": "HzSP42VuAu7o",
        "colab_type": "text"
      },
      "source": [
        "Exploring the tables."
      ]
    },
    {
      "cell_type": "code",
      "metadata": {
        "id": "kdHzVuFfApgb",
        "colab_type": "code",
        "colab": {
          "base_uri": "https://localhost:8080/",
          "height": 221
        },
        "outputId": "002c0938-a884-4b0d-c52f-d7082fb32e32"
      },
      "source": [
        "%%sql\n",
        "\n",
        "SELECT * \n",
        "FROM user_sessions \n",
        "LIMIT 5;"
      ],
      "execution_count": 6,
      "outputs": [
        {
          "output_type": "stream",
          "text": [
            " * postgresql+psycopg2://@/postgres\n"
          ],
          "name": "stdout"
        },
        {
          "output_type": "execute_result",
          "data": {
            "text/html": [
              "<div>\n",
              "<style scoped>\n",
              "    .dataframe tbody tr th:only-of-type {\n",
              "        vertical-align: middle;\n",
              "    }\n",
              "\n",
              "    .dataframe tbody tr th {\n",
              "        vertical-align: top;\n",
              "    }\n",
              "\n",
              "    .dataframe thead th {\n",
              "        text-align: right;\n",
              "    }\n",
              "</style>\n",
              "<table border=\"1\" class=\"dataframe\">\n",
              "  <thead>\n",
              "    <tr style=\"text-align: right;\">\n",
              "      <th></th>\n",
              "      <th>session_date</th>\n",
              "      <th>user_id</th>\n",
              "      <th>time_spent_in_mins</th>\n",
              "    </tr>\n",
              "  </thead>\n",
              "  <tbody>\n",
              "    <tr>\n",
              "      <th>0</th>\n",
              "      <td>2020-01-01</td>\n",
              "      <td>1</td>\n",
              "      <td>127</td>\n",
              "    </tr>\n",
              "    <tr>\n",
              "      <th>1</th>\n",
              "      <td>2020-01-01</td>\n",
              "      <td>2</td>\n",
              "      <td>147</td>\n",
              "    </tr>\n",
              "    <tr>\n",
              "      <th>2</th>\n",
              "      <td>2020-01-01</td>\n",
              "      <td>5</td>\n",
              "      <td>106</td>\n",
              "    </tr>\n",
              "    <tr>\n",
              "      <th>3</th>\n",
              "      <td>2020-01-01</td>\n",
              "      <td>6</td>\n",
              "      <td>179</td>\n",
              "    </tr>\n",
              "    <tr>\n",
              "      <th>4</th>\n",
              "      <td>2020-01-01</td>\n",
              "      <td>7</td>\n",
              "      <td>143</td>\n",
              "    </tr>\n",
              "  </tbody>\n",
              "</table>\n",
              "</div>"
            ],
            "text/plain": [
              "  session_date  user_id  time_spent_in_mins\n",
              "0   2020-01-01        1                 127\n",
              "1   2020-01-01        2                 147\n",
              "2   2020-01-01        5                 106\n",
              "3   2020-01-01        6                 179\n",
              "4   2020-01-01        7                 143"
            ]
          },
          "metadata": {
            "tags": []
          },
          "execution_count": 6
        }
      ]
    },
    {
      "cell_type": "code",
      "metadata": {
        "id": "qWz5vR9ZBARc",
        "colab_type": "code",
        "colab": {
          "base_uri": "https://localhost:8080/",
          "height": 221
        },
        "outputId": "4124405d-6050-4622-9a01-ab4cf7616b2f"
      },
      "source": [
        "%%sql\n",
        "\n",
        "SELECT * \n",
        "FROM user_data \n",
        "LIMIT 5;"
      ],
      "execution_count": 7,
      "outputs": [
        {
          "output_type": "stream",
          "text": [
            " * postgresql+psycopg2://@/postgres\n"
          ],
          "name": "stdout"
        },
        {
          "output_type": "execute_result",
          "data": {
            "text/html": [
              "<div>\n",
              "<style scoped>\n",
              "    .dataframe tbody tr th:only-of-type {\n",
              "        vertical-align: middle;\n",
              "    }\n",
              "\n",
              "    .dataframe tbody tr th {\n",
              "        vertical-align: top;\n",
              "    }\n",
              "\n",
              "    .dataframe thead th {\n",
              "        text-align: right;\n",
              "    }\n",
              "</style>\n",
              "<table border=\"1\" class=\"dataframe\">\n",
              "  <thead>\n",
              "    <tr style=\"text-align: right;\">\n",
              "      <th></th>\n",
              "      <th>user_id</th>\n",
              "      <th>country</th>\n",
              "      <th>age</th>\n",
              "    </tr>\n",
              "  </thead>\n",
              "  <tbody>\n",
              "    <tr>\n",
              "      <th>0</th>\n",
              "      <td>0</td>\n",
              "      <td>GER</td>\n",
              "      <td>23</td>\n",
              "    </tr>\n",
              "    <tr>\n",
              "      <th>1</th>\n",
              "      <td>1</td>\n",
              "      <td>IND</td>\n",
              "      <td>23</td>\n",
              "    </tr>\n",
              "    <tr>\n",
              "      <th>2</th>\n",
              "      <td>2</td>\n",
              "      <td>IND</td>\n",
              "      <td>43</td>\n",
              "    </tr>\n",
              "    <tr>\n",
              "      <th>3</th>\n",
              "      <td>3</td>\n",
              "      <td>GER</td>\n",
              "      <td>22</td>\n",
              "    </tr>\n",
              "    <tr>\n",
              "      <th>4</th>\n",
              "      <td>4</td>\n",
              "      <td>JPN</td>\n",
              "      <td>47</td>\n",
              "    </tr>\n",
              "  </tbody>\n",
              "</table>\n",
              "</div>"
            ],
            "text/plain": [
              "   user_id country  age\n",
              "0        0     GER   23\n",
              "1        1     IND   23\n",
              "2        2     IND   43\n",
              "3        3     GER   22\n",
              "4        4     JPN   47"
            ]
          },
          "metadata": {
            "tags": []
          },
          "execution_count": 7
        }
      ]
    },
    {
      "cell_type": "code",
      "metadata": {
        "id": "orFoqx_9BZhA",
        "colab_type": "code",
        "colab": {
          "base_uri": "https://localhost:8080/",
          "height": 376
        },
        "outputId": "b761f968-cc8d-4ca7-dbb3-dc9b48d7fce8"
      },
      "source": [
        "%%sql\n",
        "\n",
        "-- Join the two tables together\n",
        "SELECT *\n",
        "FROM user_sessions s\n",
        "INNER JOIN user_data u\n",
        "  ON s.user_id = u.user_id\n",
        "LIMIT 10;"
      ],
      "execution_count": 14,
      "outputs": [
        {
          "output_type": "stream",
          "text": [
            " * postgresql+psycopg2://@/postgres\n"
          ],
          "name": "stdout"
        },
        {
          "output_type": "execute_result",
          "data": {
            "text/html": [
              "<div>\n",
              "<style scoped>\n",
              "    .dataframe tbody tr th:only-of-type {\n",
              "        vertical-align: middle;\n",
              "    }\n",
              "\n",
              "    .dataframe tbody tr th {\n",
              "        vertical-align: top;\n",
              "    }\n",
              "\n",
              "    .dataframe thead th {\n",
              "        text-align: right;\n",
              "    }\n",
              "</style>\n",
              "<table border=\"1\" class=\"dataframe\">\n",
              "  <thead>\n",
              "    <tr style=\"text-align: right;\">\n",
              "      <th></th>\n",
              "      <th>session_date</th>\n",
              "      <th>user_id</th>\n",
              "      <th>time_spent_in_mins</th>\n",
              "      <th>user_id</th>\n",
              "      <th>country</th>\n",
              "      <th>age</th>\n",
              "    </tr>\n",
              "  </thead>\n",
              "  <tbody>\n",
              "    <tr>\n",
              "      <th>0</th>\n",
              "      <td>2020-01-01</td>\n",
              "      <td>1</td>\n",
              "      <td>127</td>\n",
              "      <td>1</td>\n",
              "      <td>IND</td>\n",
              "      <td>23</td>\n",
              "    </tr>\n",
              "    <tr>\n",
              "      <th>1</th>\n",
              "      <td>2020-01-01</td>\n",
              "      <td>2</td>\n",
              "      <td>147</td>\n",
              "      <td>2</td>\n",
              "      <td>IND</td>\n",
              "      <td>43</td>\n",
              "    </tr>\n",
              "    <tr>\n",
              "      <th>2</th>\n",
              "      <td>2020-01-01</td>\n",
              "      <td>5</td>\n",
              "      <td>106</td>\n",
              "      <td>5</td>\n",
              "      <td>GER</td>\n",
              "      <td>52</td>\n",
              "    </tr>\n",
              "    <tr>\n",
              "      <th>3</th>\n",
              "      <td>2020-01-01</td>\n",
              "      <td>6</td>\n",
              "      <td>179</td>\n",
              "      <td>6</td>\n",
              "      <td>GER</td>\n",
              "      <td>46</td>\n",
              "    </tr>\n",
              "    <tr>\n",
              "      <th>4</th>\n",
              "      <td>2020-01-01</td>\n",
              "      <td>7</td>\n",
              "      <td>143</td>\n",
              "      <td>7</td>\n",
              "      <td>GBR</td>\n",
              "      <td>59</td>\n",
              "    </tr>\n",
              "    <tr>\n",
              "      <th>5</th>\n",
              "      <td>2020-01-01</td>\n",
              "      <td>8</td>\n",
              "      <td>179</td>\n",
              "      <td>8</td>\n",
              "      <td>JPN</td>\n",
              "      <td>22</td>\n",
              "    </tr>\n",
              "    <tr>\n",
              "      <th>6</th>\n",
              "      <td>2020-01-01</td>\n",
              "      <td>10</td>\n",
              "      <td>94</td>\n",
              "      <td>10</td>\n",
              "      <td>GER</td>\n",
              "      <td>29</td>\n",
              "    </tr>\n",
              "    <tr>\n",
              "      <th>7</th>\n",
              "      <td>2020-01-01</td>\n",
              "      <td>11</td>\n",
              "      <td>76</td>\n",
              "      <td>11</td>\n",
              "      <td>RUS</td>\n",
              "      <td>45</td>\n",
              "    </tr>\n",
              "    <tr>\n",
              "      <th>8</th>\n",
              "      <td>2020-01-01</td>\n",
              "      <td>12</td>\n",
              "      <td>166</td>\n",
              "      <td>12</td>\n",
              "      <td>USA</td>\n",
              "      <td>49</td>\n",
              "    </tr>\n",
              "    <tr>\n",
              "      <th>9</th>\n",
              "      <td>2020-01-01</td>\n",
              "      <td>14</td>\n",
              "      <td>135</td>\n",
              "      <td>14</td>\n",
              "      <td>CHN</td>\n",
              "      <td>33</td>\n",
              "    </tr>\n",
              "  </tbody>\n",
              "</table>\n",
              "</div>"
            ],
            "text/plain": [
              "  session_date  user_id  time_spent_in_mins  user_id country  age\n",
              "0   2020-01-01        1                 127        1     IND   23\n",
              "1   2020-01-01        2                 147        2     IND   43\n",
              "2   2020-01-01        5                 106        5     GER   52\n",
              "3   2020-01-01        6                 179        6     GER   46\n",
              "4   2020-01-01        7                 143        7     GBR   59\n",
              "5   2020-01-01        8                 179        8     JPN   22\n",
              "6   2020-01-01       10                  94       10     GER   29\n",
              "7   2020-01-01       11                  76       11     RUS   45\n",
              "8   2020-01-01       12                 166       12     USA   49\n",
              "9   2020-01-01       14                 135       14     CHN   33"
            ]
          },
          "metadata": {
            "tags": []
          },
          "execution_count": 14
        }
      ]
    },
    {
      "cell_type": "markdown",
      "metadata": {
        "id": "IOiaObpkU4WR",
        "colab_type": "text"
      },
      "source": [
        "## Data overview"
      ]
    },
    {
      "cell_type": "code",
      "metadata": {
        "id": "xFqGGuo-U29D",
        "colab_type": "code",
        "colab": {
          "base_uri": "https://localhost:8080/",
          "height": 314
        },
        "outputId": "3d0c6995-4039-4109-e15e-27d704c212e3"
      },
      "source": [
        "%%sql\n",
        "\n",
        "-- Average age per country\n",
        "\n",
        "SELECT country\n",
        "    , ROUND(AVG(age),2) AS avg_age\n",
        "FROM user_data u\n",
        "GROUP BY country\n",
        "ORDER BY avg_age;"
      ],
      "execution_count": 19,
      "outputs": [
        {
          "output_type": "stream",
          "text": [
            " * postgresql+psycopg2://@/postgres\n"
          ],
          "name": "stdout"
        },
        {
          "output_type": "execute_result",
          "data": {
            "text/html": [
              "<div>\n",
              "<style scoped>\n",
              "    .dataframe tbody tr th:only-of-type {\n",
              "        vertical-align: middle;\n",
              "    }\n",
              "\n",
              "    .dataframe tbody tr th {\n",
              "        vertical-align: top;\n",
              "    }\n",
              "\n",
              "    .dataframe thead th {\n",
              "        text-align: right;\n",
              "    }\n",
              "</style>\n",
              "<table border=\"1\" class=\"dataframe\">\n",
              "  <thead>\n",
              "    <tr style=\"text-align: right;\">\n",
              "      <th></th>\n",
              "      <th>country</th>\n",
              "      <th>avg_age</th>\n",
              "    </tr>\n",
              "  </thead>\n",
              "  <tbody>\n",
              "    <tr>\n",
              "      <th>0</th>\n",
              "      <td>CHN</td>\n",
              "      <td>40.25</td>\n",
              "    </tr>\n",
              "    <tr>\n",
              "      <th>1</th>\n",
              "      <td>RUS</td>\n",
              "      <td>40.85</td>\n",
              "    </tr>\n",
              "    <tr>\n",
              "      <th>2</th>\n",
              "      <td>USA</td>\n",
              "      <td>41.30</td>\n",
              "    </tr>\n",
              "    <tr>\n",
              "      <th>3</th>\n",
              "      <td>FRA</td>\n",
              "      <td>41.38</td>\n",
              "    </tr>\n",
              "    <tr>\n",
              "      <th>4</th>\n",
              "      <td>GER</td>\n",
              "      <td>41.49</td>\n",
              "    </tr>\n",
              "    <tr>\n",
              "      <th>5</th>\n",
              "      <td>JPN</td>\n",
              "      <td>41.78</td>\n",
              "    </tr>\n",
              "    <tr>\n",
              "      <th>6</th>\n",
              "      <td>GBR</td>\n",
              "      <td>42.12</td>\n",
              "    </tr>\n",
              "    <tr>\n",
              "      <th>7</th>\n",
              "      <td>IND</td>\n",
              "      <td>42.27</td>\n",
              "    </tr>\n",
              "  </tbody>\n",
              "</table>\n",
              "</div>"
            ],
            "text/plain": [
              "  country avg_age\n",
              "0     CHN   40.25\n",
              "1     RUS   40.85\n",
              "2     USA   41.30\n",
              "3     FRA   41.38\n",
              "4     GER   41.49\n",
              "5     JPN   41.78\n",
              "6     GBR   42.12\n",
              "7     IND   42.27"
            ]
          },
          "metadata": {
            "tags": []
          },
          "execution_count": 19
        }
      ]
    },
    {
      "cell_type": "code",
      "metadata": {
        "id": "f9nsfUoyCGhI",
        "colab_type": "code",
        "colab": {
          "base_uri": "https://localhost:8080/",
          "height": 314
        },
        "outputId": "57f4a710-b76b-4bbd-f3a6-1c058df968fb"
      },
      "source": [
        "%%sql\n",
        "\n",
        "-- User count by country \n",
        "\n",
        "SELECT country\n",
        "    , COUNT(DISTINCT user_id) AS user_count\n",
        "FROM user_data u\n",
        "GROUP BY country\n",
        "ORDER BY country;"
      ],
      "execution_count": 21,
      "outputs": [
        {
          "output_type": "stream",
          "text": [
            " * postgresql+psycopg2://@/postgres\n"
          ],
          "name": "stdout"
        },
        {
          "output_type": "execute_result",
          "data": {
            "text/html": [
              "<div>\n",
              "<style scoped>\n",
              "    .dataframe tbody tr th:only-of-type {\n",
              "        vertical-align: middle;\n",
              "    }\n",
              "\n",
              "    .dataframe tbody tr th {\n",
              "        vertical-align: top;\n",
              "    }\n",
              "\n",
              "    .dataframe thead th {\n",
              "        text-align: right;\n",
              "    }\n",
              "</style>\n",
              "<table border=\"1\" class=\"dataframe\">\n",
              "  <thead>\n",
              "    <tr style=\"text-align: right;\">\n",
              "      <th></th>\n",
              "      <th>country</th>\n",
              "      <th>user_count</th>\n",
              "    </tr>\n",
              "  </thead>\n",
              "  <tbody>\n",
              "    <tr>\n",
              "      <th>0</th>\n",
              "      <td>CHN</td>\n",
              "      <td>245</td>\n",
              "    </tr>\n",
              "    <tr>\n",
              "      <th>1</th>\n",
              "      <td>FRA</td>\n",
              "      <td>227</td>\n",
              "    </tr>\n",
              "    <tr>\n",
              "      <th>2</th>\n",
              "      <td>GBR</td>\n",
              "      <td>266</td>\n",
              "    </tr>\n",
              "    <tr>\n",
              "      <th>3</th>\n",
              "      <td>GER</td>\n",
              "      <td>247</td>\n",
              "    </tr>\n",
              "    <tr>\n",
              "      <th>4</th>\n",
              "      <td>IND</td>\n",
              "      <td>289</td>\n",
              "    </tr>\n",
              "    <tr>\n",
              "      <th>5</th>\n",
              "      <td>JPN</td>\n",
              "      <td>276</td>\n",
              "    </tr>\n",
              "    <tr>\n",
              "      <th>6</th>\n",
              "      <td>RUS</td>\n",
              "      <td>248</td>\n",
              "    </tr>\n",
              "    <tr>\n",
              "      <th>7</th>\n",
              "      <td>USA</td>\n",
              "      <td>263</td>\n",
              "    </tr>\n",
              "  </tbody>\n",
              "</table>\n",
              "</div>"
            ],
            "text/plain": [
              "  country  user_count\n",
              "0     CHN         245\n",
              "1     FRA         227\n",
              "2     GBR         266\n",
              "3     GER         247\n",
              "4     IND         289\n",
              "5     JPN         276\n",
              "6     RUS         248\n",
              "7     USA         263"
            ]
          },
          "metadata": {
            "tags": []
          },
          "execution_count": 21
        }
      ]
    },
    {
      "cell_type": "code",
      "metadata": {
        "id": "xga5J2uWWoSL",
        "colab_type": "code",
        "colab": {
          "base_uri": "https://localhost:8080/",
          "height": 376
        },
        "outputId": "a737c5bd-ee00-4e6a-b9f3-92a0f020b85c"
      },
      "source": [
        "%%sql\n",
        "\n",
        "-- Daily active users (DAU)\n",
        "\n",
        "SELECT session_date \n",
        "    , COUNT(DISTINCT user_id)\n",
        "FROM user_sessions\n",
        "GROUP BY session_date\n",
        "ORDER BY session_date\n",
        "LIMIT 10;"
      ],
      "execution_count": 29,
      "outputs": [
        {
          "output_type": "stream",
          "text": [
            " * postgresql+psycopg2://@/postgres\n"
          ],
          "name": "stdout"
        },
        {
          "output_type": "execute_result",
          "data": {
            "text/html": [
              "<div>\n",
              "<style scoped>\n",
              "    .dataframe tbody tr th:only-of-type {\n",
              "        vertical-align: middle;\n",
              "    }\n",
              "\n",
              "    .dataframe tbody tr th {\n",
              "        vertical-align: top;\n",
              "    }\n",
              "\n",
              "    .dataframe thead th {\n",
              "        text-align: right;\n",
              "    }\n",
              "</style>\n",
              "<table border=\"1\" class=\"dataframe\">\n",
              "  <thead>\n",
              "    <tr style=\"text-align: right;\">\n",
              "      <th></th>\n",
              "      <th>session_date</th>\n",
              "      <th>count</th>\n",
              "    </tr>\n",
              "  </thead>\n",
              "  <tbody>\n",
              "    <tr>\n",
              "      <th>0</th>\n",
              "      <td>2020-01-01</td>\n",
              "      <td>777</td>\n",
              "    </tr>\n",
              "    <tr>\n",
              "      <th>1</th>\n",
              "      <td>2020-01-02</td>\n",
              "      <td>755</td>\n",
              "    </tr>\n",
              "    <tr>\n",
              "      <th>2</th>\n",
              "      <td>2020-01-03</td>\n",
              "      <td>786</td>\n",
              "    </tr>\n",
              "    <tr>\n",
              "      <th>3</th>\n",
              "      <td>2020-01-04</td>\n",
              "      <td>760</td>\n",
              "    </tr>\n",
              "    <tr>\n",
              "      <th>4</th>\n",
              "      <td>2020-01-05</td>\n",
              "      <td>749</td>\n",
              "    </tr>\n",
              "    <tr>\n",
              "      <th>5</th>\n",
              "      <td>2020-01-06</td>\n",
              "      <td>751</td>\n",
              "    </tr>\n",
              "    <tr>\n",
              "      <th>6</th>\n",
              "      <td>2020-01-07</td>\n",
              "      <td>753</td>\n",
              "    </tr>\n",
              "    <tr>\n",
              "      <th>7</th>\n",
              "      <td>2020-01-08</td>\n",
              "      <td>778</td>\n",
              "    </tr>\n",
              "    <tr>\n",
              "      <th>8</th>\n",
              "      <td>2020-01-09</td>\n",
              "      <td>766</td>\n",
              "    </tr>\n",
              "    <tr>\n",
              "      <th>9</th>\n",
              "      <td>2020-01-10</td>\n",
              "      <td>766</td>\n",
              "    </tr>\n",
              "  </tbody>\n",
              "</table>\n",
              "</div>"
            ],
            "text/plain": [
              "  session_date  count\n",
              "0   2020-01-01    777\n",
              "1   2020-01-02    755\n",
              "2   2020-01-03    786\n",
              "3   2020-01-04    760\n",
              "4   2020-01-05    749\n",
              "5   2020-01-06    751\n",
              "6   2020-01-07    753\n",
              "7   2020-01-08    778\n",
              "8   2020-01-09    766\n",
              "9   2020-01-10    766"
            ]
          },
          "metadata": {
            "tags": []
          },
          "execution_count": 29
        }
      ]
    },
    {
      "cell_type": "code",
      "metadata": {
        "id": "p7-a0jYgXlXB",
        "colab_type": "code",
        "colab": {
          "base_uri": "https://localhost:8080/",
          "height": 221
        },
        "outputId": "2df16f08-417e-443b-e8a4-79263386c3e4"
      },
      "source": [
        "%%sql\n",
        "-- Monthly active users (MAU)\n",
        "\n",
        "SELECT DATE_TRUNC('MONTH',session_date)::DATE AS Date\n",
        "    , COUNT(DISTINCT user_id)\n",
        "FROM user_sessions\n",
        "GROUP BY Date\n",
        "ORDER BY Date\n",
        "LIMIT 10;"
      ],
      "execution_count": 27,
      "outputs": [
        {
          "output_type": "stream",
          "text": [
            " * postgresql+psycopg2://@/postgres\n"
          ],
          "name": "stdout"
        },
        {
          "output_type": "execute_result",
          "data": {
            "text/html": [
              "<div>\n",
              "<style scoped>\n",
              "    .dataframe tbody tr th:only-of-type {\n",
              "        vertical-align: middle;\n",
              "    }\n",
              "\n",
              "    .dataframe tbody tr th {\n",
              "        vertical-align: top;\n",
              "    }\n",
              "\n",
              "    .dataframe thead th {\n",
              "        text-align: right;\n",
              "    }\n",
              "</style>\n",
              "<table border=\"1\" class=\"dataframe\">\n",
              "  <thead>\n",
              "    <tr style=\"text-align: right;\">\n",
              "      <th></th>\n",
              "      <th>date</th>\n",
              "      <th>count</th>\n",
              "    </tr>\n",
              "  </thead>\n",
              "  <tbody>\n",
              "    <tr>\n",
              "      <th>0</th>\n",
              "      <td>2020-01-01</td>\n",
              "      <td>1472</td>\n",
              "    </tr>\n",
              "    <tr>\n",
              "      <th>1</th>\n",
              "      <td>2020-02-01</td>\n",
              "      <td>1621</td>\n",
              "    </tr>\n",
              "    <tr>\n",
              "      <th>2</th>\n",
              "      <td>2020-03-01</td>\n",
              "      <td>1723</td>\n",
              "    </tr>\n",
              "    <tr>\n",
              "      <th>3</th>\n",
              "      <td>2020-04-01</td>\n",
              "      <td>1879</td>\n",
              "    </tr>\n",
              "    <tr>\n",
              "      <th>4</th>\n",
              "      <td>2020-05-01</td>\n",
              "      <td>1995</td>\n",
              "    </tr>\n",
              "  </tbody>\n",
              "</table>\n",
              "</div>"
            ],
            "text/plain": [
              "         date  count\n",
              "0  2020-01-01   1472\n",
              "1  2020-02-01   1621\n",
              "2  2020-03-01   1723\n",
              "3  2020-04-01   1879\n",
              "4  2020-05-01   1995"
            ]
          },
          "metadata": {
            "tags": []
          },
          "execution_count": 27
        }
      ]
    },
    {
      "cell_type": "code",
      "metadata": {
        "id": "KSdz81nKX2ck",
        "colab_type": "code",
        "colab": {
          "base_uri": "https://localhost:8080/",
          "height": 97
        },
        "outputId": "48b6012d-1c89-4444-d708-69a994095573"
      },
      "source": [
        "%%sql\n",
        "\n",
        "-- Stickiness = DAU / MAU    measures how often users engage on average.\n",
        "\n",
        "WITH daus AS (\n",
        "    SELECT session_date \n",
        "      , COUNT(DISTINCT user_id) AS dau\n",
        "    FROM user_sessions\n",
        "    GROUP BY session_date\n",
        "),\n",
        "\n",
        "maus AS (\n",
        "    SELECT DATE_TRUNC('MONTH',session_date)::DATE AS Date\n",
        "        , COUNT(DISTINCT user_id) AS mau\n",
        "    FROM user_sessions\n",
        "    GROUP BY Date\n",
        ")\n",
        "\n",
        "SELECT \n",
        "    ROUND(AVG(dau::NUMERIC/mau),2) AS stickiness\n",
        "FROM daus\n",
        "JOIN maus\n",
        "  ON DATE_TRUNC('MONTH', daus.session_date ) = maus.Date\n",
        ";"
      ],
      "execution_count": 46,
      "outputs": [
        {
          "output_type": "stream",
          "text": [
            " * postgresql+psycopg2://@/postgres\n"
          ],
          "name": "stdout"
        },
        {
          "output_type": "execute_result",
          "data": {
            "text/html": [
              "<div>\n",
              "<style scoped>\n",
              "    .dataframe tbody tr th:only-of-type {\n",
              "        vertical-align: middle;\n",
              "    }\n",
              "\n",
              "    .dataframe tbody tr th {\n",
              "        vertical-align: top;\n",
              "    }\n",
              "\n",
              "    .dataframe thead th {\n",
              "        text-align: right;\n",
              "    }\n",
              "</style>\n",
              "<table border=\"1\" class=\"dataframe\">\n",
              "  <thead>\n",
              "    <tr style=\"text-align: right;\">\n",
              "      <th></th>\n",
              "      <th>stickiness</th>\n",
              "    </tr>\n",
              "  </thead>\n",
              "  <tbody>\n",
              "    <tr>\n",
              "      <th>0</th>\n",
              "      <td>0.52</td>\n",
              "    </tr>\n",
              "  </tbody>\n",
              "</table>\n",
              "</div>"
            ],
            "text/plain": [
              "  stickiness\n",
              "0       0.52"
            ]
          },
          "metadata": {
            "tags": []
          },
          "execution_count": 46
        }
      ]
    },
    {
      "cell_type": "markdown",
      "metadata": {
        "id": "BrOC_wsVtJi-",
        "colab_type": "text"
      },
      "source": [
        "## New users per day"
      ]
    },
    {
      "cell_type": "code",
      "metadata": {
        "id": "4lMtswoms5kL",
        "colab_type": "code",
        "colab": {
          "base_uri": "https://localhost:8080/",
          "height": 221
        },
        "outputId": "5eb0f0b3-6e62-4978-f62a-030d1797b0ac"
      },
      "source": [
        "%%sql\n",
        "\n",
        "WITH regist_date AS (\n",
        "    SELECT \n",
        "        user_id\n",
        "        , MIN(session_date) AS reg_date\n",
        "    FROM user_sessions\n",
        "    GROUP BY user_id\n",
        ")\n",
        "\n",
        "SELECT \n",
        "    DATE_TRUNC('MONTH', reg_date)::DATE AS month\n",
        "    , COUNT(user_id) AS monthly_new_users\n",
        "FROM regist_date\n",
        "GROUP BY month\n",
        "ORDER BY month;"
      ],
      "execution_count": 8,
      "outputs": [
        {
          "output_type": "stream",
          "text": [
            " * postgresql+psycopg2://@/postgres\n"
          ],
          "name": "stdout"
        },
        {
          "output_type": "execute_result",
          "data": {
            "text/html": [
              "<div>\n",
              "<style scoped>\n",
              "    .dataframe tbody tr th:only-of-type {\n",
              "        vertical-align: middle;\n",
              "    }\n",
              "\n",
              "    .dataframe tbody tr th {\n",
              "        vertical-align: top;\n",
              "    }\n",
              "\n",
              "    .dataframe thead th {\n",
              "        text-align: right;\n",
              "    }\n",
              "</style>\n",
              "<table border=\"1\" class=\"dataframe\">\n",
              "  <thead>\n",
              "    <tr style=\"text-align: right;\">\n",
              "      <th></th>\n",
              "      <th>month</th>\n",
              "      <th>monthly_new_users</th>\n",
              "    </tr>\n",
              "  </thead>\n",
              "  <tbody>\n",
              "    <tr>\n",
              "      <th>0</th>\n",
              "      <td>2020-01-01</td>\n",
              "      <td>1472</td>\n",
              "    </tr>\n",
              "    <tr>\n",
              "      <th>1</th>\n",
              "      <td>2020-02-01</td>\n",
              "      <td>166</td>\n",
              "    </tr>\n",
              "    <tr>\n",
              "      <th>2</th>\n",
              "      <td>2020-03-01</td>\n",
              "      <td>147</td>\n",
              "    </tr>\n",
              "    <tr>\n",
              "      <th>3</th>\n",
              "      <td>2020-04-01</td>\n",
              "      <td>152</td>\n",
              "    </tr>\n",
              "    <tr>\n",
              "      <th>4</th>\n",
              "      <td>2020-05-01</td>\n",
              "      <td>124</td>\n",
              "    </tr>\n",
              "  </tbody>\n",
              "</table>\n",
              "</div>"
            ],
            "text/plain": [
              "        month  monthly_new_users\n",
              "0  2020-01-01               1472\n",
              "1  2020-02-01                166\n",
              "2  2020-03-01                147\n",
              "3  2020-04-01                152\n",
              "4  2020-05-01                124"
            ]
          },
          "metadata": {
            "tags": []
          },
          "execution_count": 8
        }
      ]
    },
    {
      "cell_type": "markdown",
      "metadata": {
        "id": "TOcuYgF3uLFD",
        "colab_type": "text"
      },
      "source": [
        "## GROWTH"
      ]
    },
    {
      "cell_type": "code",
      "metadata": {
        "id": "kiY1_bAtrLhu",
        "colab_type": "code",
        "colab": {
          "base_uri": "https://localhost:8080/",
          "height": 221
        },
        "outputId": "227f7f89-d265-4b53-f186-af94388d749f"
      },
      "source": [
        "%%sql\n",
        "\n",
        "WITH regist_date AS (\n",
        "    SELECT \n",
        "        user_id\n",
        "        , MIN(session_date) AS reg_date\n",
        "    FROM user_sessions\n",
        "    GROUP BY user_id\n",
        "),\n",
        "\n",
        "new_users AS (\n",
        "    SELECT \n",
        "        DATE_TRUNC('MONTH', reg_date)::DATE AS month\n",
        "        , COUNT(user_id) AS monthly_new_users\n",
        "    FROM regist_date\n",
        "    GROUP BY month\n",
        ")\n",
        "\n",
        "SELECT \n",
        "    month\n",
        "    , monthly_new_users\n",
        "    , LAG(monthly_new_users) OVER (ORDER BY month) AS previous\n",
        "    , ROUND((monthly_new_users - LAG(monthly_new_users) OVER (ORDER BY month))::NUMERIC / \n",
        "    LAG(monthly_new_users) OVER (ORDER BY month),2) AS growth_rate\n",
        "FROM new_users;"
      ],
      "execution_count": 27,
      "outputs": [
        {
          "output_type": "stream",
          "text": [
            " * postgresql+psycopg2://@/postgres\n"
          ],
          "name": "stdout"
        },
        {
          "output_type": "execute_result",
          "data": {
            "text/html": [
              "<div>\n",
              "<style scoped>\n",
              "    .dataframe tbody tr th:only-of-type {\n",
              "        vertical-align: middle;\n",
              "    }\n",
              "\n",
              "    .dataframe tbody tr th {\n",
              "        vertical-align: top;\n",
              "    }\n",
              "\n",
              "    .dataframe thead th {\n",
              "        text-align: right;\n",
              "    }\n",
              "</style>\n",
              "<table border=\"1\" class=\"dataframe\">\n",
              "  <thead>\n",
              "    <tr style=\"text-align: right;\">\n",
              "      <th></th>\n",
              "      <th>month</th>\n",
              "      <th>monthly_new_users</th>\n",
              "      <th>previous</th>\n",
              "      <th>growth_rate</th>\n",
              "    </tr>\n",
              "  </thead>\n",
              "  <tbody>\n",
              "    <tr>\n",
              "      <th>0</th>\n",
              "      <td>2020-01-01</td>\n",
              "      <td>1472</td>\n",
              "      <td>NaN</td>\n",
              "      <td>None</td>\n",
              "    </tr>\n",
              "    <tr>\n",
              "      <th>1</th>\n",
              "      <td>2020-02-01</td>\n",
              "      <td>166</td>\n",
              "      <td>1472.0</td>\n",
              "      <td>-0.89</td>\n",
              "    </tr>\n",
              "    <tr>\n",
              "      <th>2</th>\n",
              "      <td>2020-03-01</td>\n",
              "      <td>147</td>\n",
              "      <td>166.0</td>\n",
              "      <td>-0.11</td>\n",
              "    </tr>\n",
              "    <tr>\n",
              "      <th>3</th>\n",
              "      <td>2020-04-01</td>\n",
              "      <td>152</td>\n",
              "      <td>147.0</td>\n",
              "      <td>0.03</td>\n",
              "    </tr>\n",
              "    <tr>\n",
              "      <th>4</th>\n",
              "      <td>2020-05-01</td>\n",
              "      <td>124</td>\n",
              "      <td>152.0</td>\n",
              "      <td>-0.18</td>\n",
              "    </tr>\n",
              "  </tbody>\n",
              "</table>\n",
              "</div>"
            ],
            "text/plain": [
              "        month  monthly_new_users  previous growth_rate\n",
              "0  2020-01-01               1472       NaN        None\n",
              "1  2020-02-01                166    1472.0       -0.89\n",
              "2  2020-03-01                147     166.0       -0.11\n",
              "3  2020-04-01                152     147.0        0.03\n",
              "4  2020-05-01                124     152.0       -0.18"
            ]
          },
          "metadata": {
            "tags": []
          },
          "execution_count": 27
        }
      ]
    },
    {
      "cell_type": "markdown",
      "metadata": {
        "id": "GgbcgAEqyTei",
        "colab_type": "text"
      },
      "source": [
        "## Retained users"
      ]
    },
    {
      "cell_type": "code",
      "metadata": {
        "id": "Vwf6oOjVvCGW",
        "colab_type": "code",
        "colab": {
          "base_uri": "https://localhost:8080/",
          "height": 221
        },
        "outputId": "b0fd6c95-8944-4936-b21f-ccefded38065"
      },
      "source": [
        "%%sql\n",
        "\n",
        "-- months in which each user is active\n",
        "WITH months_active AS (\n",
        "    SELECT DISTINCT DATE_TRUNC('MONTH', session_date)::DATE AS active_month\n",
        "        , user_id\n",
        "    FROM user_sessions\n",
        "),\n",
        "\n",
        "retained AS (\n",
        "    SELECT \n",
        "        previous.active_month\n",
        "        , previous.user_id\n",
        "        , current.user_id IS NOT NULL AS retained\n",
        "    FROM months_active previous\n",
        "    LEFT JOIN months_active current\n",
        "      ON previous.user_id = current.user_id\n",
        "      AND previous.active_month = (current.active_month + INTERVAL '1 MONTH')\n",
        ")\n",
        "\n",
        "SELECT \n",
        "    active_month AS month\n",
        "    , COUNT(user_id) AS total_users\n",
        "    , SUM(CASE WHEN retained THEN 1 ELSE 0 END) AS retained_users\n",
        "    , ROUND(SUM(CASE \n",
        "          WHEN retained THEN 1 END)::NUMERIC / COUNT(*),3)\n",
        "          AS ratention_rate\n",
        "FROM retained\n",
        "GROUP BY active_month;"
      ],
      "execution_count": 51,
      "outputs": [
        {
          "output_type": "stream",
          "text": [
            " * postgresql+psycopg2://@/postgres\n"
          ],
          "name": "stdout"
        },
        {
          "output_type": "execute_result",
          "data": {
            "text/html": [
              "<div>\n",
              "<style scoped>\n",
              "    .dataframe tbody tr th:only-of-type {\n",
              "        vertical-align: middle;\n",
              "    }\n",
              "\n",
              "    .dataframe tbody tr th {\n",
              "        vertical-align: top;\n",
              "    }\n",
              "\n",
              "    .dataframe thead th {\n",
              "        text-align: right;\n",
              "    }\n",
              "</style>\n",
              "<table border=\"1\" class=\"dataframe\">\n",
              "  <thead>\n",
              "    <tr style=\"text-align: right;\">\n",
              "      <th></th>\n",
              "      <th>month</th>\n",
              "      <th>total_users</th>\n",
              "      <th>retained_users</th>\n",
              "      <th>ratention_rate</th>\n",
              "    </tr>\n",
              "  </thead>\n",
              "  <tbody>\n",
              "    <tr>\n",
              "      <th>0</th>\n",
              "      <td>2020-01-01</td>\n",
              "      <td>1472</td>\n",
              "      <td>0</td>\n",
              "      <td>None</td>\n",
              "    </tr>\n",
              "    <tr>\n",
              "      <th>1</th>\n",
              "      <td>2020-02-01</td>\n",
              "      <td>1621</td>\n",
              "      <td>1455</td>\n",
              "      <td>0.898</td>\n",
              "    </tr>\n",
              "    <tr>\n",
              "      <th>2</th>\n",
              "      <td>2020-03-01</td>\n",
              "      <td>1723</td>\n",
              "      <td>1559</td>\n",
              "      <td>0.905</td>\n",
              "    </tr>\n",
              "    <tr>\n",
              "      <th>3</th>\n",
              "      <td>2020-04-01</td>\n",
              "      <td>1879</td>\n",
              "      <td>1667</td>\n",
              "      <td>0.887</td>\n",
              "    </tr>\n",
              "    <tr>\n",
              "      <th>4</th>\n",
              "      <td>2020-05-01</td>\n",
              "      <td>1995</td>\n",
              "      <td>1816</td>\n",
              "      <td>0.910</td>\n",
              "    </tr>\n",
              "  </tbody>\n",
              "</table>\n",
              "</div>"
            ],
            "text/plain": [
              "        month  total_users  retained_users ratention_rate\n",
              "0  2020-01-01         1472               0           None\n",
              "1  2020-02-01         1621            1455          0.898\n",
              "2  2020-03-01         1723            1559          0.905\n",
              "3  2020-04-01         1879            1667          0.887\n",
              "4  2020-05-01         1995            1816          0.910"
            ]
          },
          "metadata": {
            "tags": []
          },
          "execution_count": 51
        }
      ]
    },
    {
      "cell_type": "markdown",
      "metadata": {
        "id": "Kor4mAtwBRHL",
        "colab_type": "text"
      },
      "source": [
        "## Average age of churners in Germany and Japan"
      ]
    },
    {
      "cell_type": "code",
      "metadata": {
        "id": "dEQD-pQk9iQW",
        "colab_type": "code",
        "colab": {
          "base_uri": "https://localhost:8080/",
          "height": 190
        },
        "outputId": "967b2732-e7e5-46a3-d23d-b4f8a49fc7b8"
      },
      "source": [
        "%%sql \n",
        "WITH months_active AS (\n",
        "    SELECT DISTINCT DATE_TRUNC('MONTH', session_date)::DATE AS active_month\n",
        "        , user_id\n",
        "    FROM user_sessions\n",
        "),\n",
        "\n",
        "retained AS (\n",
        "    SELECT \n",
        "        previous.active_month\n",
        "        , previous.user_id\n",
        "        , current.user_id IS NULL AS churned\n",
        "    FROM months_active previous\n",
        "    LEFT JOIN months_active current\n",
        "      ON previous.user_id = current.user_id\n",
        "      AND previous.active_month = (current.active_month + INTERVAL '1 MONTH')\n",
        ")\n",
        "\n",
        "SELECT \n",
        "    country \n",
        "    , churned\n",
        "    , ROUND(AVG(age),1) AS avg_age\n",
        "FROM retained\n",
        "JOIN user_data \n",
        "  ON retained.user_id = user_data.user_id\n",
        "WHERE country IN ('GER', 'JPN')\n",
        "GROUP BY country, churned;"
      ],
      "execution_count": 71,
      "outputs": [
        {
          "output_type": "stream",
          "text": [
            " * postgresql+psycopg2://@/postgres\n"
          ],
          "name": "stdout"
        },
        {
          "output_type": "execute_result",
          "data": {
            "text/html": [
              "<div>\n",
              "<style scoped>\n",
              "    .dataframe tbody tr th:only-of-type {\n",
              "        vertical-align: middle;\n",
              "    }\n",
              "\n",
              "    .dataframe tbody tr th {\n",
              "        vertical-align: top;\n",
              "    }\n",
              "\n",
              "    .dataframe thead th {\n",
              "        text-align: right;\n",
              "    }\n",
              "</style>\n",
              "<table border=\"1\" class=\"dataframe\">\n",
              "  <thead>\n",
              "    <tr style=\"text-align: right;\">\n",
              "      <th></th>\n",
              "      <th>country</th>\n",
              "      <th>churned</th>\n",
              "      <th>avg_age</th>\n",
              "    </tr>\n",
              "  </thead>\n",
              "  <tbody>\n",
              "    <tr>\n",
              "      <th>0</th>\n",
              "      <td>JPN</td>\n",
              "      <td>False</td>\n",
              "      <td>41.7</td>\n",
              "    </tr>\n",
              "    <tr>\n",
              "      <th>1</th>\n",
              "      <td>JPN</td>\n",
              "      <td>True</td>\n",
              "      <td>41.9</td>\n",
              "    </tr>\n",
              "    <tr>\n",
              "      <th>2</th>\n",
              "      <td>GER</td>\n",
              "      <td>True</td>\n",
              "      <td>41.6</td>\n",
              "    </tr>\n",
              "    <tr>\n",
              "      <th>3</th>\n",
              "      <td>GER</td>\n",
              "      <td>False</td>\n",
              "      <td>41.4</td>\n",
              "    </tr>\n",
              "  </tbody>\n",
              "</table>\n",
              "</div>"
            ],
            "text/plain": [
              "  country  churned avg_age\n",
              "0     JPN    False    41.7\n",
              "1     JPN     True    41.9\n",
              "2     GER     True    41.6\n",
              "3     GER    False    41.4"
            ]
          },
          "metadata": {
            "tags": []
          },
          "execution_count": 71
        }
      ]
    },
    {
      "cell_type": "markdown",
      "metadata": {
        "id": "yc6XHCAx075V",
        "colab_type": "text"
      },
      "source": [
        ""
      ]
    }
  ]
}